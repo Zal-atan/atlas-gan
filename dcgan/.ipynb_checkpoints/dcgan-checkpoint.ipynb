{
 "cells": [
  {
   "cell_type": "markdown",
   "metadata": {},
   "source": [
    "# DCGAN Workspace"
   ]
  },
  {
   "cell_type": "markdown",
   "metadata": {},
   "source": [
    "### Discriminator Try"
   ]
  },
  {
   "cell_type": "code",
   "execution_count": 2,
   "metadata": {},
   "outputs": [],
   "source": [
    "from numpy import expand_dims, ones, zeros\n",
    "from numpy.random import rand, randint\n",
    "from keras.datasets.mnist import load_data\n",
    "from keras.optimizers import Adam\n",
    "from keras.models import Sequential\n",
    "from keras.layers import Dense, Conv2D, Flatten, Dropout, LeakyReLU"
   ]
  },
  {
   "cell_type": "markdown",
   "metadata": {},
   "source": [
    "First, we need to build a discriminator model. This model will take a 28X28x1 image and down sample the image to 14x14 and then to 7x7. The reason for the extra dimension is to give a space for the value of the pixel (white or black, but in a sigmoid 0 to 1 format)"
   ]
  },
  {
   "cell_type": "code",
   "execution_count": 4,
   "metadata": {},
   "outputs": [],
   "source": [
    "def create_discriminator(in_shape=(28,28,1)):\n",
    "    \"\"\"\n",
    "    Creates a discrimator model\n",
    "    \n",
    "    Input:\n",
    "    in-shape: This is the shape of the photos that will be put into the discriminator model.\n",
    "    \n",
    "    Output:\n",
    "    The model for discriminating fake vs real images\n",
    "    \"\"\"\n",
    "    model =  Sequential()\n",
    "    model.add(Conv2D(64, (3,3), strides=(2, 2), padding='same', input_shape=in_shape))\n",
    "    model.add(LeakyReLU(alpha=0.2))\n",
    "    model.add(Dropout(0.4))\n",
    "    model.add(Conv2D(64, (3,3), strides=(2, 2), padding='same'))\n",
    "    model.add(LeakyReLU(alpha=0.2))\n",
    "    model.add(Dropout(0.4))\n",
    "    model.add(Flatten())\n",
    "    model.add(Dense(1, activation='sigmoid'))\n",
    "    # compile\n",
    "    opt = Adam(lr=0.0002, beta_1=0.5)\n",
    "    model.compile(loss='binary_crossentropy', optimizer=opt, metrics=['accuracy'])\n",
    "    return model"
   ]
  },
  {
   "cell_type": "markdown",
   "metadata": {},
   "source": [
    "Load mnist training images and generate fake images to train discriminator"
   ]
  },
  {
   "cell_type": "code",
   "execution_count": 5,
   "metadata": {},
   "outputs": [],
   "source": [
    "# Load mnist data set\n",
    "def load_mnist():\n",
    "    \"\"\"\n",
    "    This function loads the MNIST dataset, and scales it to be in a sigmoid (0, 1) range\n",
    "    \"\"\"\n",
    "    (trainX, _), (_, _) = load_data()\n",
    "    # add third dimension for color value\n",
    "    X = expand_dims(trainX, axis=-1)\n",
    "    X = X.astype('float32')\n",
    "    X = X / 255.0\n",
    "    return X\n",
    " \n",
    "# Randomly select real samples from MNIST to train with\n",
    "def select_real_samples(dataset, n_samples):\n",
    "    \"\"\"\n",
    "    Selects some number of real samples to train with from the input dataset.\n",
    "    Uses random to select random images. Labels the images as 'real' with label = 1\n",
    "    \n",
    "    Inputs:\n",
    "    dataset: Input dataset(MNIST)\n",
    "    n_sample: number of samples to select\n",
    "    \n",
    "    Return:\n",
    "    X: Selected images\n",
    "    y: tags for images\n",
    "    \"\"\"\n",
    "    # get n number of random images from dataset\n",
    "    i = randint(0, dataset.shape[0], n_samples)\n",
    "    \n",
    "    X = dataset[i]\n",
    "    y = ones((n_samples, 1))\n",
    "    \n",
    "    return X, y\n",
    " \n",
    "# Create n amount of fake images to train discriminator\n",
    "def create_fake_samples(n_samples):\n",
    "    \"\"\"\n",
    "    Creates fake samples to train discriminator with correct dimensions\n",
    "    \n",
    "    Input:\n",
    "    n_samples: number of samples to create\n",
    "    \n",
    "    Return:\n",
    "    X: fake images\n",
    "    y: image tags for training, 0 to mean not real images\n",
    "    \"\"\"\n",
    "    X = rand(28 * 28 * n_samples)\n",
    "    \n",
    "    # Reshape and add tags to show fake\n",
    "    X = X.reshape((n_samples, 28, 28, 1))\n",
    "    y = zeros((n_samples, 1))\n",
    "    return X, y"
   ]
  },
  {
   "cell_type": "markdown",
   "metadata": {},
   "source": [
    "Train Discriminator Model"
   ]
  },
  {
   "cell_type": "code",
   "execution_count": null,
   "metadata": {},
   "outputs": [],
   "source": [
    "def train_discriminator(model, dataset, iterations=100, batch_size=256):\n",
    "    \"\"\"\n",
    "    Trains the discriminator using mnist dataset and fake images.\n",
    "    Takes half batch size of real and fake for each iteration.\n",
    "    \n",
    "    Inputs:\n",
    "    model: input model\n",
    "    dataset: loaded dataset (MNIST)\n",
    "    iterations: number of iterations of training\n",
    "    batch_size: images to train with in each iteration\n",
    "    \"\"\"\n",
    "\n",
    "    for i in range(iterations):\n",
    "        # Select real images and train discriminator\n",
    "        X_real, y_real = select_real_samples(dataset, int(batch_size / 2))\n",
    "        _, real_acc = model.train_on_batch(X_real, y_real)\n",
    "        \n",
    "        # Select fake images and train discriminator\n",
    "        X_fake, y_fake = generate_fake_samples(int(batch_size / 2))\n",
    "        _, fake_acc = model.train_on_batch(X_fake, y_fake)\n",
    "        \n",
    "        #Performance\n",
    "        print('>%d real=%.0f%% fake=%.0f%%' % (i+1, real_acc*100, fake_acc*100))\n",
    " \n",
    "    model = create_discriminator()\n",
    "    dataset = load_mnist()\n",
    "    train_discriminator(model, dataset)"
   ]
  }
 ],
 "metadata": {
  "kernelspec": {
   "display_name": "Python 3 (ipykernel)",
   "language": "python",
   "name": "python3"
  },
  "language_info": {
   "codemirror_mode": {
    "name": "ipython",
    "version": 3
   },
   "file_extension": ".py",
   "mimetype": "text/x-python",
   "name": "python",
   "nbconvert_exporter": "python",
   "pygments_lexer": "ipython3",
   "version": "3.11.5"
  }
 },
 "nbformat": 4,
 "nbformat_minor": 2
}
